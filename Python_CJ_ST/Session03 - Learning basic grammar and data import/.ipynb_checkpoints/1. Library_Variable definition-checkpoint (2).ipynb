{
 "cells": [
  {
   "cell_type": "markdown",
   "metadata": {},
   "source": [
    "# 1. 라이브러리/변수 선언"
   ]
  },
  {
   "cell_type": "code",
   "execution_count": 1,
   "metadata": {},
   "outputs": [
    {
     "name": "stdout",
     "output_type": "stream",
     "text": [
      "17\n"
     ]
    }
   ],
   "source": [
    "#시간계산 라이브러리 선언\n",
    "import datetime\n",
    "\n",
    "#now 변수에 현재시간 변수 담기\n",
    "now = datetime.datetime.now()\n",
    "\n",
    "#오늘날짜 변수담기 & 데이터 출력\n",
    "today = now.day\n",
    "print(today)"
   ]
  }
 ],
 "metadata": {
  "kernelspec": {
   "display_name": "Python 3",
   "language": "python",
   "name": "python3"
  },
  "language_info": {
   "codemirror_mode": {
    "name": "ipython",
    "version": 3
   },
   "file_extension": ".py",
   "mimetype": "text/x-python",
   "name": "python",
   "nbconvert_exporter": "python",
   "pygments_lexer": "ipython3",
   "version": "3.6.3"
  }
 },
 "nbformat": 4,
 "nbformat_minor": 2
}
