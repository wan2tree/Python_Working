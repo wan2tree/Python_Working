{
 "cells": [
  {
   "cell_type": "markdown",
   "metadata": {},
   "source": [
    "### 반복문 예제"
   ]
  },
  {
   "cell_type": "code",
   "execution_count": 1,
   "metadata": {
    "scrolled": true
   },
   "outputs": [
    {
     "name": "stdout",
     "output_type": "stream",
     "text": [
      "1\n",
      "2\n",
      "3\n",
      "4\n",
      "5\n",
      "6\n",
      "7\n",
      "8\n",
      "9\n",
      "10\n",
      "1번문제 시작!\n",
      "1\n",
      "2\n",
      "3\n",
      "4\n",
      "5\n",
      "6\n",
      "7\n",
      "8\n",
      "9\n",
      "10\n",
      "2번문제 시작!\n"
     ]
    }
   ],
   "source": [
    "#반복문 예제 #1\n",
    "i = 1\n",
    "while i <= 10:\n",
    "    print(i)\n",
    "    i=i+1;\n",
    "print(\"1번문제 시작!\")\n",
    "\n",
    "#반복문 예제 #2\n",
    "for i in range(1, 11):\n",
    "    print(i)\n",
    "print(\"2번문제 시작!\")"
   ]
  },
  {
   "cell_type": "markdown",
   "metadata": {},
   "source": [
    "### 2중 for 문"
   ]
  },
  {
   "cell_type": "code",
   "execution_count": 2,
   "metadata": {},
   "outputs": [
    {
     "name": "stdout",
     "output_type": "stream",
     "text": [
      "1단 시작\n",
      "1 * 1 =  1 \n",
      "1 * 2 =  2 \n",
      "1 * 3 =  3 \n",
      "1 * 4 =  4 \n",
      "1 * 5 =  5 \n",
      "1 * 6 =  6 \n",
      "1 * 7 =  7 \n",
      "1 * 8 =  8 \n",
      "1 * 9 =  9 \n",
      "2단 시작\n",
      "2 * 1 =  2 \n",
      "2 * 2 =  4 \n",
      "2 * 3 =  6 \n",
      "2 * 4 =  8 \n",
      "2 * 5 =  10 \n",
      "2 * 6 =  12 \n",
      "2 * 7 =  14 \n",
      "2 * 8 =  16 \n",
      "2 * 9 =  18 \n"
     ]
    }
   ],
   "source": [
    "for n in [1,2]:\n",
    "    print(\"{0}단 시작\".format(n))\n",
    "    for i in [1,2,3,4,5,6,7,8,9]:\n",
    "        print(\"{0} * {1} =  {2} \".format(n, i, n*i))"
   ]
  },
  {
   "cell_type": "markdown",
   "metadata": {},
   "source": [
    "### 2중 for 문 + break"
   ]
  },
  {
   "cell_type": "code",
   "execution_count": 3,
   "metadata": {
    "scrolled": true
   },
   "outputs": [
    {
     "name": "stdout",
     "output_type": "stream",
     "text": [
      "1단 시작\n",
      "1 * 1 =  1 \n",
      "1 * 2 =  2 \n",
      "1 * 3 =  3 \n",
      "1 * 4 =  4 \n",
      "1 * 5 =  5 \n",
      "2단 시작\n",
      "2 * 1 =  2 \n",
      "2 * 2 =  4 \n",
      "2 * 3 =  6 \n",
      "2 * 4 =  8 \n",
      "2 * 5 =  10 \n"
     ]
    }
   ],
   "source": [
    "for n in [1,2]:\n",
    "    print(\"{0}단 시작\".format(n))\n",
    "    for i in [1,2,3,4,5,6,7,8,9]:\n",
    "        if i > 5:\n",
    "            break\n",
    "        print(\"{0} * {1} =  {2} \".format(n, i, n*i))"
   ]
  },
  {
   "cell_type": "markdown",
   "metadata": {},
   "source": [
    "### 2중 for 문 + continue"
   ]
  },
  {
   "cell_type": "markdown",
   "metadata": {},
   "source": [
    "### 완전 벗어나는게 아니라 해당 블록만 벗어남"
   ]
  },
  {
   "cell_type": "code",
   "execution_count": 1,
   "metadata": {
    "scrolled": true
   },
   "outputs": [
    {
     "name": "stdout",
     "output_type": "stream",
     "text": [
      "1단 시작\n",
      "1 * 1 =  1 \n",
      "1 * 2 =  2 \n",
      "1 * 3 =  3 \n",
      "1 * 4 =  4 \n",
      "1 * 5 =  5 \n",
      "1 * 6 =  6 \n",
      "1 * 7 =  7 \n",
      "1 * 8 =  8 \n",
      "1 * 9 =  9 \n",
      "3단 시작\n",
      "3 * 1 =  3 \n",
      "3 * 2 =  6 \n",
      "3 * 3 =  9 \n",
      "3 * 4 =  12 \n",
      "3 * 5 =  15 \n",
      "3 * 6 =  18 \n",
      "3 * 7 =  21 \n",
      "3 * 8 =  24 \n",
      "3 * 9 =  27 \n"
     ]
    }
   ],
   "source": [
    "for n in [1,2,3]:\n",
    "    if n%2 == 0:\n",
    "            continue\n",
    "    print(\"{0}단 시작\".format(n))\n",
    "    for i in [1,2,3,4,5,6,7,8,9]:\n",
    "        print(\"{0} * {1} =  {2} \".format(n, i, n*i))"
   ]
  },
  {
   "cell_type": "code",
   "execution_count": 5,
   "metadata": {},
   "outputs": [
    {
     "name": "stdout",
     "output_type": "stream",
     "text": [
      "A01,한국\n",
      "A02,미국\n",
      "A03,인도\n",
      "A01\n",
      "A02\n",
      "A03\n",
      "\n",
      "\n",
      "한국\n",
      "미국\n",
      "인도\n"
     ]
    }
   ],
   "source": [
    "dic_example = { 'A01': '한국', 'A02': '미국', 'A03': '인도' } \n",
    "\n",
    "# 키와 값 가져오기 \n",
    "\n",
    "for key, value in dic_example.items(): \n",
    "    print(\"{0},{1}\".format(key, value))\n",
    "\n",
    "    # 키만 가져오기 \n",
    "for key in dic_example.keys(): \n",
    "    print(key) \n",
    "print('\\n')  \n",
    "    # 값만 가져오기 \n",
    "for value in dic_example.values(): \n",
    "    print(value)"
   ]
  }
 ],
 "metadata": {
  "kernelspec": {
   "display_name": "Python 3",
   "language": "python",
   "name": "python3"
  },
  "language_info": {
   "codemirror_mode": {
    "name": "ipython",
    "version": 3
   },
   "file_extension": ".py",
   "mimetype": "text/x-python",
   "name": "python",
   "nbconvert_exporter": "python",
   "pygments_lexer": "ipython3",
   "version": "3.6.3"
  }
 },
 "nbformat": 4,
 "nbformat_minor": 2
}
