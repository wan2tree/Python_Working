{
 "cells": [
  {
   "cell_type": "markdown",
   "metadata": {},
   "source": [
    "### Data load from web"
   ]
  },
  {
   "cell_type": "code",
   "execution_count": 1,
   "metadata": {},
   "outputs": [
    {
     "name": "stdout",
     "output_type": "stream",
     "text": [
      "기상청 육상 중기예보\n",
      "기압골의 영향으로 23일에는 중부지방에 비가 오겠고, 그 밖의 날은 고기압의 영향으로 대체로 맑은 날이 많겠습니다.<br />기온은 평년(최저기온: 2~13℃, 최고기온: 16~21℃)과 비슷하겠습니다. <br />강수량은 평년(0~5mm)보다 중부지방은 많겠으나, 남부지방은 적겠습니다.<br /><br />* 대체로 맑은 날씨가 이어지면서 대기가 건조하겠으니, 화재예방에 각별히 유의하기 바랍니다.\n"
     ]
    }
   ],
   "source": [
    "import requests, bs4, pandas as pd, numpy as np\n",
    " \n",
    "#웹페이지 html 소스 가져오기\n",
    "resp = requests.get('http://www.kma.go.kr/weather/forecast/mid-term-rss3.jsp')\n",
    "resp.encoding='utf-8'\n",
    "html = resp.text\n",
    "\n",
    "bs = bs4.BeautifulSoup(html, 'html.parser')\n",
    "#print(bs)\n",
    "# html 구조 태그로 가져오기\n",
    "title = bs.find(\"title\").text\n",
    "wf = bs.find(\"wf\").text\n",
    "print(title)\n",
    "print(wf)"
   ]
  },
  {
   "cell_type": "markdown",
   "metadata": {},
   "source": [
    "### 1. 태그 찾기 - find"
   ]
  },
  {
   "cell_type": "code",
   "execution_count": 6,
   "metadata": {
    "scrolled": true
   },
   "outputs": [
    {
     "name": "stdout",
     "output_type": "stream",
     "text": [
      "[<div class=\"class_py_quiz\" id=\"id_py_quiz\">\n",
      "<h1> 일반 의견 </h1>\n",
      "<a href=\"https://docs.google.com/forms/d/e/1FAIpQLSeuG47RniR0g8t0uHMZcITQZ8hv1F5a8DUunQuINijgRd2QTA/viewform?usp=sf_link\"> 일반 의견 </a>\n",
      "<h1>Python 퀴즈 </h1>\n",
      "<a href=\"https://docs.google.com/forms/d/e/1FAIpQLSdUcvzWzOud-00HKHSh1r6XKOi6UaCoWKhRXpqnfe5fwfLs4A/viewform?usp=sf_link\"> 10 파이썬 PandasDataframe 조작 심화 1</a>\n",
      "<p></p>\n",
      "<a href=\"https://docs.google.com/forms/d/e/1FAIpQLSfy-ZEtZpN2jC02AmqEiEG0bJkG5ZH6Ph-3q-fuE16JcmCw6g/viewform?usp=sf_link\"> 9 파이썬 PandasDataframe 조작 </a>\n",
      "<p></p>\n",
      "<a href=\"https://docs.google.com/forms/d/e/1FAIpQLSfOYXpeanpTw7jxWZcsWZCUQfDP-09Bk3d-UHnOcSa5-C6GSg/viewform?usp=sf_link\"> 8 파이썬 PandasDataframe</a>\n",
      "<p></p>\n",
      "<a href=\"https://docs.google.com/forms/d/e/1FAIpQLSev5NqrIRccYJ1kWq1dPBDXvX4MJ7ugr-GVi5A_bgEig1dsHA/viewform?usp=sf_link\"> 7 파이썬 스크랩 BS4</a>\n",
      "<p></p>\n",
      "<a href=\"https://docs.google.com/forms/d/e/1FAIpQLScoGQuidGNCFerQZ6Dw5t6PndPPT62EvrncPLL3xLUfulRTyA/viewform?usp=sf_link\"> 6 파이썬 데이터 불러오기/저장하기 </a>\n",
      "<p></p>\n",
      "<a href=\"https://docs.google.com/forms/d/e/1FAIpQLSftZ-2VYfHB46FrwFG2HjbRDBtLSO0XP2BmiHh3iqwGoi3pQQ/viewform?usp=sf_link\"> 5 postgres 과제 </a>\n",
      "<p></p>\n",
      "<a href=\"https://docs.google.com/forms/d/e/1FAIpQLSeZBKjrZD1nAf4aAYhz_WEAqbzwPUPihgMEfXy74e0IMRwXKw/viewform?usp=sf_link\"> 4 파이썬 제어문 </a>\n",
      "<p></p>\n",
      "<a href=\"https://docs.google.com/forms/d/e/1FAIpQLSdvFbZGNm7rSGQO_daDSWHC8o1BNgZtIBajLaiOcvgV2iV0IA/viewform?usp=sf_link\"> 3 파이썬 자료형 </a>\n",
      "<p></p>\n",
      "<a href=\"https://docs.google.com/forms/d/e/1FAIpQLSehRuBYKpXNULxkamM8zVOd_mkFwZYwKtAp8Px0Kl0oCJbIeA/viewform?usp=sf_link\"> 2 파이썬 머신러닝 </a>\n",
      "<p></p>\n",
      "<a href=\"https://docs.google.com/forms/d/e/1FAIpQLSeVt843wk9MBxLj0N84q_8Vg4yL1jTrOygA5Cm3z-asPDY1sg/viewform?usp=sf_link\"> 1 파이썬 시작하기 </a>\n",
      "<p></p>\n",
      "</div>]\n"
     ]
    }
   ],
   "source": [
    "import requests, bs4, pandas as pd, numpy as np\n",
    " \n",
    "#웹페이지 html 소스 가져오기\n",
    "resp = requests.get('http://13.209.112.251:3333/quiz')\n",
    "resp.encoding='utf-8'\n",
    "html = resp.text\n",
    "\n",
    "bs = bs4.BeautifulSoup(html, 'html.parser')\n",
    "\n",
    "# html 부분구조 가져오기\n",
    "find_tag = bs.findAll(\"div\")\n",
    "print(find_tag)\n"
   ]
  },
  {
   "cell_type": "markdown",
   "metadata": {},
   "source": [
    "### 2. 속성 찾기 - find"
   ]
  },
  {
   "cell_type": "code",
   "execution_count": 10,
   "metadata": {},
   "outputs": [
    {
     "name": "stdout",
     "output_type": "stream",
     "text": [
      "<div class=\"class_db_quiz\" id=\"id_db_quiz\">\n",
      "<h1>데이터베이스 퀴즈 </h1>\n",
      "<a href=\"https://docs.google.com/forms/d/e/1FAIpQLSff5TjqUq9u-jRxYZvTdB7k-N0AEjx0_WSIcLZCBfFiEfoRUA/viewform?usp=sf_link\"> 6/12 오라클 Join 퀴즈 </a>\n",
      "</div>\n"
     ]
    }
   ],
   "source": [
    "import requests, bs4, pandas as pd, numpy as np\n",
    " \n",
    "#웹페이지 html 소스 가져오기\n",
    "resp = requests.get('http://13.209.112.251:3333/quiz')\n",
    "resp.encoding='utf-8'\n",
    "html = resp.text\n",
    "\n",
    "bs = bs4.BeautifulSoup(html, 'html.parser')\n",
    "\n",
    "# html 태그 속성으로 찾기\n",
    "find_attr = bs.find(\"div\",{\"id\":\"id_db_quiz\"})\n",
    "print(find_attr)"
   ]
  },
  {
   "cell_type": "markdown",
   "metadata": {},
   "source": [
    "### 3. 태그내 dom 부분구조 찾기"
   ]
  },
  {
   "cell_type": "code",
   "execution_count": 12,
   "metadata": {},
   "outputs": [
    {
     "name": "stdout",
     "output_type": "stream",
     "text": [
      "<a href=\"https://docs.google.com/forms/d/e/1FAIpQLSff5TjqUq9u-jRxYZvTdB7k-N0AEjx0_WSIcLZCBfFiEfoRUA/viewform?usp=sf_link\"> 6/12 오라클 Join 퀴즈 </a>\n"
     ]
    }
   ],
   "source": [
    "import requests, bs4, pandas as pd, numpy as np\n",
    " \n",
    "#웹페이지 html 소스 가져오기\n",
    "resp = requests.get('http://13.209.112.251:3333/quiz')\n",
    "resp.encoding='utf-8'\n",
    "html = resp.text\n",
    "\n",
    "bs = bs4.BeautifulSoup(html, 'html.parser')\n",
    "\n",
    "# html 부분구조 가져오기\n",
    "find_attr = bs.find(\"div\",{\"id\":\"id_db_quiz\"})\n",
    "find_part = find_attr.find(\"a\")\n",
    "print(find_part)\n"
   ]
  },
  {
   "cell_type": "markdown",
   "metadata": {},
   "source": [
    "### 4. DOM 구조 내 속성 찾기"
   ]
  },
  {
   "cell_type": "code",
   "execution_count": 13,
   "metadata": {},
   "outputs": [
    {
     "name": "stdout",
     "output_type": "stream",
     "text": [
      "https://docs.google.com/forms/d/e/1FAIpQLSff5TjqUq9u-jRxYZvTdB7k-N0AEjx0_WSIcLZCBfFiEfoRUA/viewform?usp=sf_link\n"
     ]
    }
   ],
   "source": [
    "import requests, bs4, pandas as pd, numpy as np\n",
    " \n",
    "#웹페이지 html 소스 가져오기\n",
    "resp = requests.get('http://13.209.112.251:3333/quiz')\n",
    "resp.encoding='utf-8'\n",
    "html = resp.text\n",
    "bs = bs4.BeautifulSoup(html, 'html.parser')\n",
    "# html 부분구조 가져오기\n",
    "find_part = bs.find(\"div\",{\"id\":\"id_db_quiz\"})\n",
    "# 링크내 속성 가져오기\n",
    "link = find_part.find(\"a\")\n",
    "print(find_part.find(\"a\").attrs['href'])"
   ]
  },
  {
   "cell_type": "markdown",
   "metadata": {},
   "source": [
    "### 실습 링크 속성 추출하기"
   ]
  },
  {
   "cell_type": "code",
   "execution_count": 15,
   "metadata": {},
   "outputs": [
    {
     "name": "stdout",
     "output_type": "stream",
     "text": [
      " 일반 의견  > https://docs.google.com/forms/d/e/1FAIpQLSeuG47RniR0g8t0uHMZcITQZ8hv1F5a8DUunQuINijgRd2QTA/viewform?usp=sf_link\n",
      " 10 파이썬 PandasDataframe 조작 심화 1 > https://docs.google.com/forms/d/e/1FAIpQLSdUcvzWzOud-00HKHSh1r6XKOi6UaCoWKhRXpqnfe5fwfLs4A/viewform?usp=sf_link\n",
      " 9 파이썬 PandasDataframe 조작  > https://docs.google.com/forms/d/e/1FAIpQLSfy-ZEtZpN2jC02AmqEiEG0bJkG5ZH6Ph-3q-fuE16JcmCw6g/viewform?usp=sf_link\n",
      " 8 파이썬 PandasDataframe > https://docs.google.com/forms/d/e/1FAIpQLSfOYXpeanpTw7jxWZcsWZCUQfDP-09Bk3d-UHnOcSa5-C6GSg/viewform?usp=sf_link\n",
      " 7 파이썬 스크랩 BS4 > https://docs.google.com/forms/d/e/1FAIpQLSev5NqrIRccYJ1kWq1dPBDXvX4MJ7ugr-GVi5A_bgEig1dsHA/viewform?usp=sf_link\n",
      " 6 파이썬 데이터 불러오기/저장하기  > https://docs.google.com/forms/d/e/1FAIpQLScoGQuidGNCFerQZ6Dw5t6PndPPT62EvrncPLL3xLUfulRTyA/viewform?usp=sf_link\n",
      " 5 postgres 과제  > https://docs.google.com/forms/d/e/1FAIpQLSftZ-2VYfHB46FrwFG2HjbRDBtLSO0XP2BmiHh3iqwGoi3pQQ/viewform?usp=sf_link\n",
      " 4 파이썬 제어문  > https://docs.google.com/forms/d/e/1FAIpQLSeZBKjrZD1nAf4aAYhz_WEAqbzwPUPihgMEfXy74e0IMRwXKw/viewform?usp=sf_link\n",
      " 3 파이썬 자료형  > https://docs.google.com/forms/d/e/1FAIpQLSdvFbZGNm7rSGQO_daDSWHC8o1BNgZtIBajLaiOcvgV2iV0IA/viewform?usp=sf_link\n",
      " 2 파이썬 머신러닝  > https://docs.google.com/forms/d/e/1FAIpQLSehRuBYKpXNULxkamM8zVOd_mkFwZYwKtAp8Px0Kl0oCJbIeA/viewform?usp=sf_link\n",
      " 1 파이썬 시작하기  > https://docs.google.com/forms/d/e/1FAIpQLSeVt843wk9MBxLj0N84q_8Vg4yL1jTrOygA5Cm3z-asPDY1sg/viewform?usp=sf_link\n",
      " 6/12 오라클 Join 퀴즈  > https://docs.google.com/forms/d/e/1FAIpQLSff5TjqUq9u-jRxYZvTdB7k-N0AEjx0_WSIcLZCBfFiEfoRUA/viewform?usp=sf_link\n"
     ]
    }
   ],
   "source": [
    "import requests, bs4, pandas as pd, numpy as np\n",
    " \n",
    "#웹페이지 html 소스 가져오기\n",
    "resp = requests.get('http://13.209.112.251:3333/quiz')\n",
    "resp.encoding='utf-8'\n",
    "html = resp.text\n",
    "\n",
    "bs = bs4.BeautifulSoup(html, 'html.parser')\n",
    "\n",
    "# html 부분구조 가져오기\n",
    "a_links = bs.findAll(\"a\")\n",
    "for a in a_links:\n",
    "    #a 링크 내 href 속성\n",
    "    href=a.attrs[\"href\"]\n",
    "    #a 링크 텍스트\n",
    "    text = a.text\n",
    "    if(href.startswith(\"/\")):\n",
    "        continue;\n",
    "    print(text, \">\", href)"
   ]
  },
  {
   "cell_type": "markdown",
   "metadata": {},
   "source": [
    "### 테이블"
   ]
  },
  {
   "cell_type": "code",
   "execution_count": 16,
   "metadata": {},
   "outputs": [
    {
     "name": "stdout",
     "output_type": "stream",
     "text": [
      "usd/krw=  1,134.50\n"
     ]
    },
    {
     "data": {
      "text/html": [
       "<div>\n",
       "<style scoped>\n",
       "    .dataframe tbody tr th:only-of-type {\n",
       "        vertical-align: middle;\n",
       "    }\n",
       "\n",
       "    .dataframe tbody tr th {\n",
       "        vertical-align: top;\n",
       "    }\n",
       "\n",
       "    .dataframe thead th {\n",
       "        text-align: right;\n",
       "    }\n",
       "</style>\n",
       "<table border=\"1\" class=\"dataframe\">\n",
       "  <thead>\n",
       "    <tr style=\"text-align: right;\">\n",
       "      <th></th>\n",
       "      <th>title</th>\n",
       "    </tr>\n",
       "  </thead>\n",
       "  <tbody>\n",
       "    <tr>\n",
       "      <th>0</th>\n",
       "      <td>1,134.50</td>\n",
       "    </tr>\n",
       "  </tbody>\n",
       "</table>\n",
       "</div>"
      ],
      "text/plain": [
       "      title\n",
       "0  1,134.50"
      ]
     },
     "execution_count": 16,
     "metadata": {},
     "output_type": "execute_result"
    }
   ],
   "source": [
    "import requests, bs4, pandas as pd, numpy as np\n",
    " \n",
    "#웹페이지 html 소스 가져오기\n",
    "resp = requests.get(\"http://finance.naver.com/marketindex/\")\n",
    "resp.encoding='utf-8'\n",
    "html = resp.text\n",
    "\n",
    "bs = bs4.BeautifulSoup(html, 'html.parser')\n",
    "\n",
    "# 데이터 추출하기\n",
    "price = bs.select_one(\"div.head_info > span.value\").string\n",
    "print(\"usd/krw= \", price)\n",
    "\n",
    "# 리스트 초기화 및 데이터 담기\n",
    "outList = []\n",
    "outList.append(price)\n",
    "\n",
    "# 리스트 pandas 데이터 프레임으로 변환 및 컬럼 정의\n",
    "outDf = pd.DataFrame(np.array(outList).reshape(1,1))\n",
    "outDf.columns = ['title']\n",
    "# CSV 파일로 저장, encondig 한글깨짐 방지\n",
    "#outDf.to_csv(\"../dataset/webData.csv\", encoding='utf-8-sig',index=False)\n",
    "outDf"
   ]
  },
  {
   "cell_type": "markdown",
   "metadata": {},
   "source": [
    "### 데이터 불러오기 from web [select] - id"
   ]
  },
  {
   "cell_type": "code",
   "execution_count": 17,
   "metadata": {},
   "outputs": [
    {
     "name": "stdout",
     "output_type": "stream",
     "text": [
      "[<div class=\"class_db_quiz\" id=\"id_db_quiz\">\n",
      "<h1>데이터베이스 퀴즈 </h1>\n",
      "<a href=\"https://docs.google.com/forms/d/e/1FAIpQLSff5TjqUq9u-jRxYZvTdB7k-N0AEjx0_WSIcLZCBfFiEfoRUA/viewform?usp=sf_link\"> 6/12 오라클 Join 퀴즈 </a>\n",
      "</div>]\n"
     ]
    }
   ],
   "source": [
    "import requests, bs4, pandas as pd, numpy as np\n",
    " \n",
    "#웹페이지 html 소스 가져오기\n",
    "resp = requests.get('http://13.209.112.251:3333/quiz')\n",
    "resp.encoding='utf-8'\n",
    "html = resp.text\n",
    "\n",
    "bs = bs4.BeautifulSoup(html, \"html.parser\")\n",
    "# div에서 id가 id_db_quiz인것만 추출\n",
    "divs = bs.select(\"div#id_db_quiz\")\n",
    "print(divs)"
   ]
  },
  {
   "cell_type": "markdown",
   "metadata": {},
   "source": [
    "### 데이터 불러오기 from web [select] - class"
   ]
  },
  {
   "cell_type": "code",
   "execution_count": 19,
   "metadata": {},
   "outputs": [
    {
     "name": "stdout",
     "output_type": "stream",
     "text": [
      "[<div class=\"class_db_quiz\" id=\"id_db_quiz\">\n",
      "<h1>데이터베이스 퀴즈 </h1>\n",
      "<a href=\"https://docs.google.com/forms/d/e/1FAIpQLSff5TjqUq9u-jRxYZvTdB7k-N0AEjx0_WSIcLZCBfFiEfoRUA/viewform?usp=sf_link\"> 6/12 오라클 Join 퀴즈 </a>\n",
      "</div>]\n"
     ]
    }
   ],
   "source": [
    "import requests, bs4, pandas as pd, numpy as np\n",
    " \n",
    "#웹페이지 html 소스 가져오기\n",
    "resp = requests.get('http://13.209.112.251:3333/quiz')\n",
    "resp.encoding='utf-8'\n",
    "html = resp.text\n",
    "\n",
    "bs = bs4.BeautifulSoup(html, \"html.parser\")\n",
    "# div에서 id가 id_db_quiz인것만 추출\n",
    "divs = bs.select(\"div.class_db_quiz\")\n",
    "print(divs)"
   ]
  },
  {
   "cell_type": "markdown",
   "metadata": {},
   "source": [
    "### 데이터 불러오기 from web [select] - one or many"
   ]
  },
  {
   "cell_type": "code",
   "execution_count": 22,
   "metadata": {},
   "outputs": [
    {
     "name": "stdout",
     "output_type": "stream",
     "text": [
      " 6/12 오라클 Join 퀴즈 \n"
     ]
    }
   ],
   "source": [
    "import requests, bs4, pandas as pd, numpy as np\n",
    " \n",
    "#웹페이지 html 소스 가져오기\n",
    "resp = requests.get(\"http://13.209.112.251:3333/quiz\")\n",
    "resp.encoding='utf-8'\n",
    "html = resp.text\n",
    "bs = bs4.BeautifulSoup(html, \"html.parser\")\n",
    "# div에서 class가 class_db_quiz인것만 추출 (1개)\n",
    "seone = bs.select_one(\"div.class_db_quiz > a\").string    \n",
    "# div에서 class가 class_db_quiz인것만 추출 (다수)\n",
    "divs = bs.select(\"div.class_db_quiz > a\")\n",
    "for li in divs:\n",
    "    print(li.string)"
   ]
  },
  {
   "cell_type": "code",
   "execution_count": 40,
   "metadata": {},
   "outputs": [
    {
     "data": {
      "text/html": [
       "<div>\n",
       "<style scoped>\n",
       "    .dataframe tbody tr th:only-of-type {\n",
       "        vertical-align: middle;\n",
       "    }\n",
       "\n",
       "    .dataframe tbody tr th {\n",
       "        vertical-align: top;\n",
       "    }\n",
       "\n",
       "    .dataframe thead th {\n",
       "        text-align: right;\n",
       "    }\n",
       "</style>\n",
       "<table border=\"1\" class=\"dataframe\">\n",
       "  <thead>\n",
       "    <tr style=\"text-align: right;\">\n",
       "      <th></th>\n",
       "      <th>순번</th>\n",
       "      <th>학생 이름</th>\n",
       "      <th>GIT 주소(뒷부분)</th>\n",
       "      <th>수정</th>\n",
       "    </tr>\n",
       "  </thead>\n",
       "  <tbody>\n",
       "  </tbody>\n",
       "</table>\n",
       "</div>"
      ],
      "text/plain": [
       "Empty DataFrame\n",
       "Columns: [순번, 학생 이름, GIT 주소(뒷부분), 수정]\n",
       "Index: []"
      ]
     },
     "execution_count": 40,
     "metadata": {},
     "output_type": "execute_result"
    }
   ],
   "source": [
    "import requests, bs4, pandas as pd, numpy as np\n",
    " \n",
    "#웹페이지 html 소스 가져오기\n",
    "resp = requests.get('http://13.209.112.251:3333/maps/gitList')\n",
    "resp.encoding='utf-8'\n",
    "html = resp.text\n",
    "bs = bs4.BeautifulSoup(html, 'html.parser')\n",
    "\n",
    "# html 부분구조 가져오기\n",
    "columns=bs.select('table > tr > th')\n",
    "\n",
    "gitColumnlist=[]\n",
    "for column in columns:\n",
    "    gitColumnlist.append(column.text)\n",
    "df=pd.DataFrame(columns=gitColumnlist)\n",
    "df"
   ]
  },
  {
   "cell_type": "code",
   "execution_count": 43,
   "metadata": {},
   "outputs": [
    {
     "data": {
      "text/html": [
       "<div>\n",
       "<style scoped>\n",
       "    .dataframe tbody tr th:only-of-type {\n",
       "        vertical-align: middle;\n",
       "    }\n",
       "\n",
       "    .dataframe tbody tr th {\n",
       "        vertical-align: top;\n",
       "    }\n",
       "\n",
       "    .dataframe thead th {\n",
       "        text-align: right;\n",
       "    }\n",
       "</style>\n",
       "<table border=\"1\" class=\"dataframe\">\n",
       "  <thead>\n",
       "    <tr style=\"text-align: right;\">\n",
       "      <th></th>\n",
       "      <th>no</th>\n",
       "      <th>std_name</th>\n",
       "      <th>git_address</th>\n",
       "    </tr>\n",
       "  </thead>\n",
       "  <tbody>\n",
       "    <tr>\n",
       "      <th>0</th>\n",
       "      <td>1</td>\n",
       "      <td>KIM GANG RYONG</td>\n",
       "      <td>wovmxl</td>\n",
       "    </tr>\n",
       "    <tr>\n",
       "      <th>1</th>\n",
       "      <td>2</td>\n",
       "      <td>KIM DO WOON</td>\n",
       "      <td>dowoonkim</td>\n",
       "    </tr>\n",
       "    <tr>\n",
       "      <th>2</th>\n",
       "      <td>3</td>\n",
       "      <td>KIM EUI JIN</td>\n",
       "      <td>doogn</td>\n",
       "    </tr>\n",
       "    <tr>\n",
       "      <th>3</th>\n",
       "      <td>4</td>\n",
       "      <td>NOH YOUNG WOO</td>\n",
       "      <td>ppoocoder</td>\n",
       "    </tr>\n",
       "    <tr>\n",
       "      <th>4</th>\n",
       "      <td>5</td>\n",
       "      <td>PARK SEUNG JIN</td>\n",
       "      <td>tmdwls</td>\n",
       "    </tr>\n",
       "  </tbody>\n",
       "</table>\n",
       "</div>"
      ],
      "text/plain": [
       "  no        std_name git_address\n",
       "0  1  KIM GANG RYONG      wovmxl\n",
       "1  2     KIM DO WOON   dowoonkim\n",
       "2  3     KIM EUI JIN       doogn\n",
       "3  4   NOH YOUNG WOO   ppoocoder\n",
       "4  5  PARK SEUNG JIN      tmdwls"
      ]
     },
     "execution_count": 43,
     "metadata": {},
     "output_type": "execute_result"
    }
   ],
   "source": [
    "contents=bs.select('table > tr#gitContents')\n",
    "dfcontent=[]\n",
    "alldfcontents=[]\n",
    "\n",
    "for content in contents:\n",
    "    tds=content.findAll(\"td\")\n",
    "    for td in tds:\n",
    "        dfcontent.append(td.text)\n",
    "    alldfcontents.append(dfcontent)\n",
    "    dfcontent=[]\n",
    "df=pd.DataFrame(columns=gitColumnlist, data=alldfcontents, index=None)\n",
    "df.columns=[\"no\",\"std_name\",\"git_address\",\"edit\"]\n",
    "finalDf = df[[\"no\",\"std_name\",\"git_address\"]]\n",
    "finalDf.to_csv(\"d:/git_address.csv\",index=False)\n",
    "finalDf.head()"
   ]
  },
  {
   "cell_type": "markdown",
   "metadata": {},
   "source": [
    "### 하둡파일시스템 접근"
   ]
  },
  {
   "cell_type": "code",
   "execution_count": null,
   "metadata": {
    "collapsed": true
   },
   "outputs": [],
   "source": [
    "from pywebhdfs.webhdfs import PyWebHdfsClient\n",
    "hdfs = PyWebHdfsClient(host='192.168.0.30',port='50070',user_name='hdfs')\n",
    "\n",
    "hdfs.read_file('kopo/test.csv')"
   ]
  },
  {
   "cell_type": "code",
   "execution_count": null,
   "metadata": {
    "collapsed": true
   },
   "outputs": [],
   "source": [
    "import pandas as pd\n",
    "from hdfs import InsecureClient\n",
    "import os\n",
    "hdfs = PyWebHdfsClient(host='192.168.110.30', port='50070', user_name='hdfs', timeout=1)  # your Namenode IP & username here\n",
    "my_dir = '/kopo/helloworld.csv'\n",
    "pprint(hdfs.list_dir(my_dir))"
   ]
  },
  {
   "cell_type": "code",
   "execution_count": null,
   "metadata": {
    "collapsed": true
   },
   "outputs": [],
   "source": [
    "import pandas as pd\n",
    "from hdfs import InsecureClient\n",
    "import os\n",
    "\n",
    "client_hdfs = InsecureClient('http://192.168.0.30:9000')\n",
    "liste_hello = ['hello1','hello2']\n",
    "liste_world = ['world1','world2']\n",
    "df = pd.DataFrame(data = {'hello' : liste_hello, 'world': liste_world})\n",
    "df\n",
    "# Writing Dataframe to hdfs\n",
    "with client_hdfs.write('/kopo/helloworld.csv', encoding = 'utf-8') as writer:\n",
    "    df.to_csv(writer)\n",
    "# ====== Reading files ======\n",
    "with client_hdfs.read('/kopo/helloworld.csv', encoding = 'utf-8') as reader:\n",
    "    readdf=pd.read_csv(reader,index_col=0)"
   ]
  },
  {
   "cell_type": "markdown",
   "metadata": {},
   "source": [
    "### 홀리데이 크롤링"
   ]
  },
  {
   "cell_type": "code",
   "execution_count": 44,
   "metadata": {
    "scrolled": true
   },
   "outputs": [
    {
     "data": {
      "text/html": [
       "<div>\n",
       "<style scoped>\n",
       "    .dataframe tbody tr th:only-of-type {\n",
       "        vertical-align: middle;\n",
       "    }\n",
       "\n",
       "    .dataframe tbody tr th {\n",
       "        vertical-align: top;\n",
       "    }\n",
       "\n",
       "    .dataframe thead th {\n",
       "        text-align: right;\n",
       "    }\n",
       "</style>\n",
       "<table border=\"1\" class=\"dataframe\">\n",
       "  <thead>\n",
       "    <tr style=\"text-align: right;\">\n",
       "      <th></th>\n",
       "      <th>0</th>\n",
       "      <th>1</th>\n",
       "      <th>2</th>\n",
       "    </tr>\n",
       "  </thead>\n",
       "  <tbody>\n",
       "    <tr>\n",
       "      <th>0</th>\n",
       "      <td>월요일</td>\n",
       "      <td>New Year's Day</td>\n",
       "      <td>Public Holiday</td>\n",
       "    </tr>\n",
       "    <tr>\n",
       "      <th>1</th>\n",
       "      <td>금요일</td>\n",
       "      <td>2018 Winter Olympics start</td>\n",
       "      <td>Observance</td>\n",
       "    </tr>\n",
       "    <tr>\n",
       "      <th>2</th>\n",
       "      <td>수요일</td>\n",
       "      <td>Valentine's Day</td>\n",
       "      <td>Observance</td>\n",
       "    </tr>\n",
       "    <tr>\n",
       "      <th>3</th>\n",
       "      <td>목요일</td>\n",
       "      <td>Seollal Holiday</td>\n",
       "      <td>Public Holiday</td>\n",
       "    </tr>\n",
       "    <tr>\n",
       "      <th>4</th>\n",
       "      <td>금요일</td>\n",
       "      <td>Seollal</td>\n",
       "      <td>Public Holiday</td>\n",
       "    </tr>\n",
       "    <tr>\n",
       "      <th>5</th>\n",
       "      <td>토요일</td>\n",
       "      <td>Seollal Holiday</td>\n",
       "      <td>Public Holiday</td>\n",
       "    </tr>\n",
       "    <tr>\n",
       "      <th>6</th>\n",
       "      <td>일요일</td>\n",
       "      <td>2018 Winter Olympics end</td>\n",
       "      <td>Observance</td>\n",
       "    </tr>\n",
       "    <tr>\n",
       "      <th>7</th>\n",
       "      <td>목요일</td>\n",
       "      <td>Independence Movement Day</td>\n",
       "      <td>National holiday</td>\n",
       "    </tr>\n",
       "    <tr>\n",
       "      <th>8</th>\n",
       "      <td>금요일</td>\n",
       "      <td>2018 Winter Paralympics start</td>\n",
       "      <td>Observance</td>\n",
       "    </tr>\n",
       "    <tr>\n",
       "      <th>9</th>\n",
       "      <td>일요일</td>\n",
       "      <td>2018 Winter Paralympics end</td>\n",
       "      <td>Observance</td>\n",
       "    </tr>\n",
       "    <tr>\n",
       "      <th>10</th>\n",
       "      <td>화요일</td>\n",
       "      <td>March Equinox</td>\n",
       "      <td>Season</td>\n",
       "    </tr>\n",
       "    <tr>\n",
       "      <th>11</th>\n",
       "      <td>목요일</td>\n",
       "      <td>Arbor Day</td>\n",
       "      <td>Observance</td>\n",
       "    </tr>\n",
       "    <tr>\n",
       "      <th>12</th>\n",
       "      <td>화요일</td>\n",
       "      <td>Labor Day</td>\n",
       "      <td>Bank Holiday</td>\n",
       "    </tr>\n",
       "    <tr>\n",
       "      <th>13</th>\n",
       "      <td>토요일</td>\n",
       "      <td>Children's Day</td>\n",
       "      <td>Public Holiday</td>\n",
       "    </tr>\n",
       "    <tr>\n",
       "      <th>14</th>\n",
       "      <td>월요일</td>\n",
       "      <td>Children's Day observed</td>\n",
       "      <td>Public Holiday</td>\n",
       "    </tr>\n",
       "    <tr>\n",
       "      <th>15</th>\n",
       "      <td>화요일</td>\n",
       "      <td>Parents' Day</td>\n",
       "      <td>Observance</td>\n",
       "    </tr>\n",
       "    <tr>\n",
       "      <th>16</th>\n",
       "      <td>화요일</td>\n",
       "      <td>Teacher's Day</td>\n",
       "      <td>Observance</td>\n",
       "    </tr>\n",
       "    <tr>\n",
       "      <th>17</th>\n",
       "      <td>화요일</td>\n",
       "      <td>Buddha's Birthday</td>\n",
       "      <td>Public Holiday</td>\n",
       "    </tr>\n",
       "    <tr>\n",
       "      <th>18</th>\n",
       "      <td>수요일</td>\n",
       "      <td>Memorial Day</td>\n",
       "      <td>Public Holiday</td>\n",
       "    </tr>\n",
       "    <tr>\n",
       "      <th>19</th>\n",
       "      <td>수요일</td>\n",
       "      <td>Local Election Day</td>\n",
       "      <td>Public Holiday</td>\n",
       "    </tr>\n",
       "    <tr>\n",
       "      <th>20</th>\n",
       "      <td>목요일</td>\n",
       "      <td>June Solstice</td>\n",
       "      <td>Season</td>\n",
       "    </tr>\n",
       "    <tr>\n",
       "      <th>21</th>\n",
       "      <td>화요일</td>\n",
       "      <td>Constitution Day</td>\n",
       "      <td>Observance</td>\n",
       "    </tr>\n",
       "    <tr>\n",
       "      <th>22</th>\n",
       "      <td>수요일</td>\n",
       "      <td>Liberation Day</td>\n",
       "      <td>National holiday</td>\n",
       "    </tr>\n",
       "    <tr>\n",
       "      <th>23</th>\n",
       "      <td>일요일</td>\n",
       "      <td>September Equinox</td>\n",
       "      <td>Season</td>\n",
       "    </tr>\n",
       "    <tr>\n",
       "      <th>24</th>\n",
       "      <td>일요일</td>\n",
       "      <td>Chuseok Holiday</td>\n",
       "      <td>Public Holiday</td>\n",
       "    </tr>\n",
       "    <tr>\n",
       "      <th>25</th>\n",
       "      <td>월요일</td>\n",
       "      <td>Chuseok</td>\n",
       "      <td>Public Holiday</td>\n",
       "    </tr>\n",
       "    <tr>\n",
       "      <th>26</th>\n",
       "      <td>화요일</td>\n",
       "      <td>Chuseok Holiday</td>\n",
       "      <td>Public Holiday</td>\n",
       "    </tr>\n",
       "    <tr>\n",
       "      <th>27</th>\n",
       "      <td>수요일</td>\n",
       "      <td>Chuseok Holiday</td>\n",
       "      <td>Public Holiday</td>\n",
       "    </tr>\n",
       "    <tr>\n",
       "      <th>28</th>\n",
       "      <td>월요일</td>\n",
       "      <td>Armed Forces Day</td>\n",
       "      <td>Observance</td>\n",
       "    </tr>\n",
       "    <tr>\n",
       "      <th>29</th>\n",
       "      <td>수요일</td>\n",
       "      <td>National Foundation Day</td>\n",
       "      <td>National holiday</td>\n",
       "    </tr>\n",
       "    <tr>\n",
       "      <th>30</th>\n",
       "      <td>화요일</td>\n",
       "      <td>Hangeul Proclamation Day</td>\n",
       "      <td>National holiday</td>\n",
       "    </tr>\n",
       "    <tr>\n",
       "      <th>31</th>\n",
       "      <td>수요일</td>\n",
       "      <td>Halloween</td>\n",
       "      <td>Observance</td>\n",
       "    </tr>\n",
       "    <tr>\n",
       "      <th>32</th>\n",
       "      <td>금요일</td>\n",
       "      <td>December Solstice</td>\n",
       "      <td>Season</td>\n",
       "    </tr>\n",
       "    <tr>\n",
       "      <th>33</th>\n",
       "      <td>월요일</td>\n",
       "      <td>Christmas Eve</td>\n",
       "      <td>Observance</td>\n",
       "    </tr>\n",
       "    <tr>\n",
       "      <th>34</th>\n",
       "      <td>화요일</td>\n",
       "      <td>Christmas Day</td>\n",
       "      <td>Public Holiday</td>\n",
       "    </tr>\n",
       "    <tr>\n",
       "      <th>35</th>\n",
       "      <td>월요일</td>\n",
       "      <td>New Year's Eve</td>\n",
       "      <td>Observance</td>\n",
       "    </tr>\n",
       "  </tbody>\n",
       "</table>\n",
       "</div>"
      ],
      "text/plain": [
       "      0                              1                 2\n",
       "0   월요일                 New Year's Day    Public Holiday\n",
       "1   금요일     2018 Winter Olympics start        Observance\n",
       "2   수요일                Valentine's Day        Observance\n",
       "3   목요일                Seollal Holiday    Public Holiday\n",
       "4   금요일                        Seollal    Public Holiday\n",
       "5   토요일                Seollal Holiday    Public Holiday\n",
       "6   일요일       2018 Winter Olympics end        Observance\n",
       "7   목요일      Independence Movement Day  National holiday\n",
       "8   금요일  2018 Winter Paralympics start        Observance\n",
       "9   일요일    2018 Winter Paralympics end        Observance\n",
       "10  화요일                  March Equinox            Season\n",
       "11  목요일                      Arbor Day        Observance\n",
       "12  화요일                      Labor Day      Bank Holiday\n",
       "13  토요일                 Children's Day    Public Holiday\n",
       "14  월요일        Children's Day observed    Public Holiday\n",
       "15  화요일                   Parents' Day        Observance\n",
       "16  화요일                  Teacher's Day        Observance\n",
       "17  화요일              Buddha's Birthday    Public Holiday\n",
       "18  수요일                   Memorial Day    Public Holiday\n",
       "19  수요일             Local Election Day    Public Holiday\n",
       "20  목요일                  June Solstice            Season\n",
       "21  화요일               Constitution Day        Observance\n",
       "22  수요일                 Liberation Day  National holiday\n",
       "23  일요일              September Equinox            Season\n",
       "24  일요일                Chuseok Holiday    Public Holiday\n",
       "25  월요일                        Chuseok    Public Holiday\n",
       "26  화요일                Chuseok Holiday    Public Holiday\n",
       "27  수요일                Chuseok Holiday    Public Holiday\n",
       "28  월요일               Armed Forces Day        Observance\n",
       "29  수요일        National Foundation Day  National holiday\n",
       "30  화요일       Hangeul Proclamation Day  National holiday\n",
       "31  수요일                      Halloween        Observance\n",
       "32  금요일              December Solstice            Season\n",
       "33  월요일                  Christmas Eve        Observance\n",
       "34  화요일                  Christmas Day    Public Holiday\n",
       "35  월요일                 New Year's Eve        Observance"
      ]
     },
     "execution_count": 44,
     "metadata": {},
     "output_type": "execute_result"
    }
   ],
   "source": [
    "import requests, bs4, pandas as pd, numpy as np\n",
    " \n",
    "#웹페이지 html 소스 가져오기\n",
    "resp = requests.get('https://www.timeanddate.com/holidays/south-korea')\n",
    "resp.encoding='utf-8'\n",
    "html = resp.text\n",
    "bs = bs4.BeautifulSoup(html, 'html.parser')\n",
    "\n",
    "contents=bs.select('table  > tbody > tr')\n",
    "dfcontent=[]\n",
    "alldfcontents=[]\n",
    "\n",
    "for content in contents:\n",
    "    tds=content.findAll(\"td\")\n",
    "    for td in tds:\n",
    "        if(td.text==\"None\"):\n",
    "            continue;\n",
    "        dfcontent.append(td.text)\n",
    "    alldfcontents.append(dfcontent)\n",
    "    dfcontent=[]\n",
    "df=pd.DataFrame(data=alldfcontents)\n",
    "df"
   ]
  },
  {
   "cell_type": "code",
   "execution_count": 46,
   "metadata": {},
   "outputs": [
    {
     "data": {
      "text/html": [
       "<div>\n",
       "<style scoped>\n",
       "    .dataframe tbody tr th:only-of-type {\n",
       "        vertical-align: middle;\n",
       "    }\n",
       "\n",
       "    .dataframe tbody tr th {\n",
       "        vertical-align: top;\n",
       "    }\n",
       "\n",
       "    .dataframe thead th {\n",
       "        text-align: right;\n",
       "    }\n",
       "</style>\n",
       "<table border=\"1\" class=\"dataframe\">\n",
       "  <thead>\n",
       "    <tr style=\"text-align: right;\">\n",
       "      <th></th>\n",
       "      <th>0</th>\n",
       "      <th>1</th>\n",
       "      <th>2</th>\n",
       "    </tr>\n",
       "  </thead>\n",
       "  <tbody>\n",
       "    <tr>\n",
       "      <th>0</th>\n",
       "      <td>월요일</td>\n",
       "      <td>New Year's Day</td>\n",
       "      <td>Public Holiday</td>\n",
       "    </tr>\n",
       "    <tr>\n",
       "      <th>1</th>\n",
       "      <td>금요일</td>\n",
       "      <td>2018 Winter Olympics start</td>\n",
       "      <td>Observance</td>\n",
       "    </tr>\n",
       "    <tr>\n",
       "      <th>2</th>\n",
       "      <td>수요일</td>\n",
       "      <td>Valentine's Day</td>\n",
       "      <td>Observance</td>\n",
       "    </tr>\n",
       "    <tr>\n",
       "      <th>3</th>\n",
       "      <td>목요일</td>\n",
       "      <td>Seollal Holiday</td>\n",
       "      <td>Public Holiday</td>\n",
       "    </tr>\n",
       "    <tr>\n",
       "      <th>4</th>\n",
       "      <td>금요일</td>\n",
       "      <td>Seollal</td>\n",
       "      <td>Public Holiday</td>\n",
       "    </tr>\n",
       "  </tbody>\n",
       "</table>\n",
       "</div>"
      ],
      "text/plain": [
       "     0                           1               2\n",
       "0  월요일              New Year's Day  Public Holiday\n",
       "1  금요일  2018 Winter Olympics start      Observance\n",
       "2  수요일             Valentine's Day      Observance\n",
       "3  목요일             Seollal Holiday  Public Holiday\n",
       "4  금요일                     Seollal  Public Holiday"
      ]
     },
     "execution_count": 46,
     "metadata": {},
     "output_type": "execute_result"
    }
   ],
   "source": [
    "import requests, bs4, pandas as pd, numpy as np\n",
    " \n",
    "#웹페이지 html 소스 가져오기\n",
    "resp = requests.get('https://www.timeanddate.com/holidays/south-korea')\n",
    "resp.encoding='utf-8'\n",
    "html = resp.text\n",
    "bs = bs4.BeautifulSoup(html, 'html.parser')\n",
    "\n",
    "contents=bs.select('table  > tbody > tr')\n",
    "dfcontent=[]\n",
    "alldfcontents=[]\n",
    "\n",
    "for content in contents:\n",
    "    tds=content.findAll(\"td\")\n",
    "    for td in tds:\n",
    "        if(td.text==\"None\"):\n",
    "            continue;\n",
    "        dfcontent.append(td.text)\n",
    "    alldfcontents.append(dfcontent)\n",
    "    dfcontent=[]\n",
    "df=pd.DataFrame(data=alldfcontents)\n",
    "df.head()"
   ]
  },
  {
   "cell_type": "code",
   "execution_count": 47,
   "metadata": {},
   "outputs": [
    {
     "data": {
      "text/html": [
       "<div>\n",
       "<style scoped>\n",
       "    .dataframe tbody tr th:only-of-type {\n",
       "        vertical-align: middle;\n",
       "    }\n",
       "\n",
       "    .dataframe tbody tr th {\n",
       "        vertical-align: top;\n",
       "    }\n",
       "\n",
       "    .dataframe thead th {\n",
       "        text-align: right;\n",
       "    }\n",
       "</style>\n",
       "<table border=\"1\" class=\"dataframe\">\n",
       "  <thead>\n",
       "    <tr style=\"text-align: right;\">\n",
       "      <th></th>\n",
       "      <th>DATE</th>\n",
       "      <th>WEEK</th>\n",
       "      <th>HOLIDAY_NAME</th>\n",
       "      <th>HOLIDAY_TYPE</th>\n",
       "    </tr>\n",
       "  </thead>\n",
       "  <tbody>\n",
       "    <tr>\n",
       "      <th>0</th>\n",
       "      <td>1월 1일</td>\n",
       "      <td>월요일</td>\n",
       "      <td>New Year's Day</td>\n",
       "      <td>Public Holiday</td>\n",
       "    </tr>\n",
       "    <tr>\n",
       "      <th>1</th>\n",
       "      <td>2월 9일</td>\n",
       "      <td>금요일</td>\n",
       "      <td>2018 Winter Olympics start</td>\n",
       "      <td>Observance</td>\n",
       "    </tr>\n",
       "    <tr>\n",
       "      <th>2</th>\n",
       "      <td>2월 14일</td>\n",
       "      <td>수요일</td>\n",
       "      <td>Valentine's Day</td>\n",
       "      <td>Observance</td>\n",
       "    </tr>\n",
       "    <tr>\n",
       "      <th>3</th>\n",
       "      <td>2월 15일</td>\n",
       "      <td>목요일</td>\n",
       "      <td>Seollal Holiday</td>\n",
       "      <td>Public Holiday</td>\n",
       "    </tr>\n",
       "    <tr>\n",
       "      <th>4</th>\n",
       "      <td>2월 16일</td>\n",
       "      <td>금요일</td>\n",
       "      <td>Seollal</td>\n",
       "      <td>Public Holiday</td>\n",
       "    </tr>\n",
       "  </tbody>\n",
       "</table>\n",
       "</div>"
      ],
      "text/plain": [
       "     DATE WEEK                HOLIDAY_NAME    HOLIDAY_TYPE\n",
       "0   1월 1일  월요일              New Year's Day  Public Holiday\n",
       "1   2월 9일  금요일  2018 Winter Olympics start      Observance\n",
       "2  2월 14일  수요일             Valentine's Day      Observance\n",
       "3  2월 15일  목요일             Seollal Holiday  Public Holiday\n",
       "4  2월 16일  금요일                     Seollal  Public Holiday"
      ]
     },
     "execution_count": 47,
     "metadata": {},
     "output_type": "execute_result"
    }
   ],
   "source": [
    "import requests, bs4, pandas as pd, numpy as np\n",
    " \n",
    "#웹페이지 html 소스 가져오기\n",
    "resp = requests.get('https://www.timeanddate.com/holidays/south-korea')\n",
    "resp.encoding='utf-8'\n",
    "html = resp.text\n",
    "bs = bs4.BeautifulSoup(html, 'html.parser')\n",
    "\n",
    "contents=bs.select('table  > tbody > tr')\n",
    "dfcontent=[]\n",
    "alldfcontents=[]\n",
    "\n",
    "for content in contents:\n",
    "    tds=content.findAll(\"td\")\n",
    "    ths=content.findAll(\"th\")\n",
    "    for th in ths:\n",
    "        dfcontent.append(th.text)\n",
    "    for td in tds:\n",
    "        dfcontent.append(td.text)\n",
    "    alldfcontents.append(dfcontent)\n",
    "    dfcontent=[]\n",
    "df=pd.DataFrame(data=alldfcontents)\n",
    "\n",
    "df.columns = [\"DATE\",\"WEEK\",\"HOLIDAY_NAME\",\"HOLIDAY_TYPE\"]\n",
    "df.head()"
   ]
  }
 ],
 "metadata": {
  "kernelspec": {
   "display_name": "Python 3",
   "language": "python",
   "name": "python3"
  },
  "language_info": {
   "codemirror_mode": {
    "name": "ipython",
    "version": 3
   },
   "file_extension": ".py",
   "mimetype": "text/x-python",
   "name": "python",
   "nbconvert_exporter": "python",
   "pygments_lexer": "ipython3",
   "version": "3.6.3"
  }
 },
 "nbformat": 4,
 "nbformat_minor": 2
}
