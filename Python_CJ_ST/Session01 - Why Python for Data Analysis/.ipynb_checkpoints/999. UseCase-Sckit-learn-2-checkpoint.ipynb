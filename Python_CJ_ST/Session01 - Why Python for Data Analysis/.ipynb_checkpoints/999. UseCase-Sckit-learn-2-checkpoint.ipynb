{
 "cells": [
  {
   "cell_type": "markdown",
   "metadata": {},
   "source": [
    "### 지도학습 (Classification)\n",
    "### SVM (Support Vector Machine)\n",
    "###"
   ]
  },
  {
   "cell_type": "code",
   "execution_count": 2,
   "metadata": {},
   "outputs": [
    {
     "name": "stdout",
     "output_type": "stream",
     "text": [
      "      deposit     stock    label\n",
      "0  1400000000  45000000   normal\n",
      "1  1450000000  72000000  diamond\n",
      "2  1500000000  61000000  diamond\n",
      "3  1370000000  56000000   normal\n",
      "4  1920000000  48000000  diamond\n",
      "      deposit     stock\n",
      "0  1400000000  45000000\n",
      "1  1450000000  72000000\n",
      "2  1500000000  61000000\n",
      "3  1370000000  56000000\n",
      "4  1920000000  48000000\n",
      "20000\n",
      "14000\n",
      "6000\n",
      "6000\n",
      "6000\n",
      "      deposit     stock    label        0\n",
      "0  1450000000  49000000   normal  diamond\n",
      "1  1500000000  51000000  diamond  diamond\n",
      "2  1740000000  49000000  diamond  diamond\n",
      "3  1930000000  50000000  diamond  diamond\n",
      "4  1580000000  64000000  diamond  diamond\n",
      "정답률 = 0.9886666666666667\n",
      "리포트 =\n",
      "              precision    recall  f1-score   support\n",
      "\n",
      "    diamond       0.98      1.00      0.99      3520\n",
      "     normal       1.00      0.98      0.99      1721\n",
      "        vip       1.00      0.96      0.98       759\n",
      "\n",
      "avg / total       0.99      0.99      0.99      6000\n",
      "\n"
     ]
    }
   ],
   "source": [
    "from sklearn import svm, metrics\n",
    "from sklearn.model_selection import train_test_split\n",
    "import matplotlib.pyplot as plt\n",
    "import pandas as pd\n",
    "\n",
    "# 키와 몸무게 데이터 읽어 들이기 --- (※1)\n",
    "tbl = pd.read_csv(\"../dataset/customer.csv\")\n",
    "print(tbl.head())\n",
    "\n",
    "# 칼럼(열)을 자르고 정규화하기 --- (※2)\n",
    "label = tbl[\"label\"]\n",
    "deposit = tbl[\"deposit\"]  # 최대 100kg라고 가정\n",
    "stock = tbl[\"stock\"]  # 최대 200cm라고 가정\n",
    "features = pd.concat([deposit, stock], axis=1)\n",
    "print(features.head())\n",
    "\n",
    "# 학습 전용 데이터와 테스트 전용 데이터로 나누기 --- (※3)\n",
    "data_train, data_test, label_train, label_test = train_test_split(features, label, test_size = 0.3)\n",
    "\n",
    "print(len(features))\n",
    "print(len(data_train))\n",
    "print(len(data_test))\n",
    "\n",
    "# 데이터 학습하기 --- (※4)\n",
    "model = svm.SVC()\n",
    "model.fit(data_train, label_train)\n",
    "\n",
    "# 데이터 예측하기 --- (※5)\n",
    "predict = pd.DataFrame(model.predict(data_test))\n",
    "print(predict.size)\n",
    "predict.head()\n",
    "\n",
    "r = pd.concat([data_test.reset_index(drop=True), label_test.reset_index(drop=True), predict.reset_index(drop=True)], axis = 1)\n",
    "r.to_csv(\"d:/result_customer.csv\")\n",
    "print(len(r))\n",
    "print(r.head())\n",
    "# 결과 테스트하기 --- (※6)\n",
    "ac_score = metrics.accuracy_score(label_test, predict)\n",
    "cl_report = metrics.classification_report(label_test, predict)\n",
    "\n",
    "print(\"정답률 =\", ac_score)\n",
    "print(\"리포트 =\\n\", cl_report)"
   ]
  },
  {
   "cell_type": "code",
   "execution_count": 3,
   "metadata": {},
   "outputs": [
    {
     "data": {
      "text/plain": [
       "'             precision    recall  f1-score   support\\n\\n    diamond       0.98      1.00      0.99      3520\\n     normal       1.00      0.98      0.99      1721\\n        vip       1.00      0.96      0.98       759\\n\\navg / total       0.99      0.99      0.99      6000\\n'"
      ]
     },
     "execution_count": 3,
     "metadata": {},
     "output_type": "execute_result"
    }
   ],
   "source": [
    "cl_report"
   ]
  },
  {
   "cell_type": "code",
   "execution_count": 3,
   "metadata": {},
   "outputs": [
    {
     "name": "stdout",
     "output_type": "stream",
     "text": [
      "   height  weight   label\n",
      "0     140      45  normal\n",
      "1     145      72     fat\n",
      "2     150      61     fat\n",
      "3     137      56     fat\n",
      "4     192      48    thin\n",
      "   weight  height\n",
      "0    0.45   0.700\n",
      "1    0.72   0.725\n",
      "2    0.61   0.750\n",
      "3    0.56   0.685\n",
      "4    0.48   0.960\n",
      "20000\n",
      "14000\n",
      "6000\n",
      "6000\n"
     ]
    },
    {
     "data": {
      "text/html": [
       "<div>\n",
       "<style scoped>\n",
       "    .dataframe tbody tr th:only-of-type {\n",
       "        vertical-align: middle;\n",
       "    }\n",
       "\n",
       "    .dataframe tbody tr th {\n",
       "        vertical-align: top;\n",
       "    }\n",
       "\n",
       "    .dataframe thead th {\n",
       "        text-align: right;\n",
       "    }\n",
       "</style>\n",
       "<table border=\"1\" class=\"dataframe\">\n",
       "  <thead>\n",
       "    <tr style=\"text-align: right;\">\n",
       "      <th></th>\n",
       "      <th>0</th>\n",
       "    </tr>\n",
       "  </thead>\n",
       "  <tbody>\n",
       "    <tr>\n",
       "      <th>0</th>\n",
       "      <td>thin</td>\n",
       "    </tr>\n",
       "    <tr>\n",
       "      <th>1</th>\n",
       "      <td>normal</td>\n",
       "    </tr>\n",
       "    <tr>\n",
       "      <th>2</th>\n",
       "      <td>normal</td>\n",
       "    </tr>\n",
       "    <tr>\n",
       "      <th>3</th>\n",
       "      <td>thin</td>\n",
       "    </tr>\n",
       "    <tr>\n",
       "      <th>4</th>\n",
       "      <td>fat</td>\n",
       "    </tr>\n",
       "  </tbody>\n",
       "</table>\n",
       "</div>"
      ],
      "text/plain": [
       "        0\n",
       "0    thin\n",
       "1  normal\n",
       "2  normal\n",
       "3    thin\n",
       "4     fat"
      ]
     },
     "execution_count": 3,
     "metadata": {},
     "output_type": "execute_result"
    }
   ],
   "source": [
    "from sklearn import svm, metrics\n",
    "from sklearn.model_selection import train_test_split\n",
    "import matplotlib.pyplot as plt\n",
    "import pandas as pd\n",
    "\n",
    "# 키와 몸무게 데이터 읽어 들이기 --- (※1)\n",
    "tbl = pd.read_csv(\"../dataset/bmi.csv\")\n",
    "print(tbl.head())\n",
    "\n",
    "# 칼럼(열)을 자르고 정규화하기 --- (※2)\n",
    "label = tbl[\"label\"]\n",
    "w = tbl[\"weight\"] / 100 # 최대 100kg라고 가정\n",
    "h = tbl[\"height\"] / 200 # 최대 200cm라고 가정\n",
    "wh = pd.concat([w, h], axis=1)\n",
    "print(wh.head())\n",
    "\n",
    "# 학습 전용 데이터와 테스트 전용 데이터로 나누기 --- (※3)\n",
    "data_train, data_test, label_train, label_test = train_test_split(wh, label, test_size = 0.3)\n",
    "\n",
    "print(len(wh))\n",
    "print(len(data_train))\n",
    "print(len(data_test))\n",
    "data_test.to_csv(\"d:/test.csv\")\n",
    "# 데이터 학습하기 --- (※4)\n",
    "model = svm.SVC()\n",
    "model.fit(data_train, label_train)\n",
    "\n",
    "# 데이터 예측하기 --- (※5)\n",
    "predict = pd.DataFrame(model.predict(data_test))\n",
    "print(predict.size)\n",
    "predict.head()"
   ]
  },
  {
   "cell_type": "code",
   "execution_count": 4,
   "metadata": {},
   "outputs": [
    {
     "name": "stdout",
     "output_type": "stream",
     "text": [
      "       weight  height\n",
      "4764     0.40    1.00\n",
      "14353    0.64    0.88\n",
      "4764       thin\n",
      "14353    normal\n",
      "Name: label, dtype: object\n",
      "        0\n",
      "0    thin\n",
      "1  normal\n",
      "6000\n",
      "   weight  height   label       0\n",
      "0    0.40   1.000    thin    thin\n",
      "1    0.64   0.880  normal  normal\n",
      "2    0.79   0.960  normal  normal\n",
      "3    0.45   0.870    thin    thin\n",
      "4    0.66   0.775     fat     fat\n",
      "정답률 = 0.9881666666666666\n",
      "리포트 =\n",
      "              precision    recall  f1-score   support\n",
      "\n",
      "        fat       1.00      0.99      1.00      2253\n",
      "     normal       0.97      0.99      0.98      1846\n",
      "       thin       0.99      0.98      0.99      1901\n",
      "\n",
      "avg / total       0.99      0.99      0.99      6000\n",
      "\n"
     ]
    }
   ],
   "source": [
    "print(data_test.head(2))\n",
    "print(label_test.head(2))\n",
    "print(predict.head(2))\n",
    "\n",
    "r = pd.concat([data_test.reset_index(drop=True), label_test.reset_index(drop=True), predict.reset_index(drop=True)], axis = 1)\n",
    "r.to_csv(\"d:/result.csv\")\n",
    "print(len(r))\n",
    "print(r.head())\n",
    "# 결과 테스트하기 --- (※6)\n",
    "ac_score = metrics.accuracy_score(label_test, predict)\n",
    "cl_report = metrics.classification_report(label_test, predict)\n",
    "\n",
    "print(\"정답률 =\", ac_score)\n",
    "print(\"리포트 =\\n\", cl_report)"
   ]
  },
  {
   "cell_type": "markdown",
   "metadata": {},
   "source": [
    "## PRECISION: 맞다고 예측한것중 실제로 답은?\n",
    "## RECALL: 맞는케이스에 대해 얼마나 많이 맞다고 예측했나?  (실제 답지에 대한 정확도)\n",
    "## F1-SCORE: 조화로운 예측"
   ]
  }
 ],
 "metadata": {
  "kernelspec": {
   "display_name": "Python 3",
   "language": "python",
   "name": "python3"
  },
  "language_info": {
   "codemirror_mode": {
    "name": "ipython",
    "version": 3
   },
   "file_extension": ".py",
   "mimetype": "text/x-python",
   "name": "python",
   "nbconvert_exporter": "python",
   "pygments_lexer": "ipython3",
   "version": "3.6.4"
  }
 },
 "nbformat": 4,
 "nbformat_minor": 2
}
