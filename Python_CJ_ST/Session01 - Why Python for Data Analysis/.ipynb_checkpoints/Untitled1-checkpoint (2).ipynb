{
 "cells": [
  {
   "cell_type": "markdown",
   "metadata": {},
   "source": [
    "### 지도학습 (SVM)"
   ]
  },
  {
   "cell_type": "code",
   "execution_count": null,
   "metadata": {},
   "outputs": [],
   "source": [
    "from sklearn import svm, metrics\n",
    "from sklearn.model_selection import train_test_split\n",
    "import matplotlib.pyplot as plt\n",
    "import pandas as pd\n",
    "\n",
    "# 키와 몸무게 데이터 읽어 들이기 --- (※1)\n",
    "tbl = pd.read_csv(\"../dataset/customer.csv\")\n",
    "print(tbl.head())\n",
    "\n",
    "# 칼럼(열)을 자르고 정규화하기 --- (※2)\n",
    "label = tbl[\"label\"]\n",
    "deposit = tbl[\"deposit\"]  # 최대 100kg라고 가정\n",
    "stock = tbl[\"stock\"]  # 최대 200cm라고 가정\n",
    "features = pd.concat([deposit, stock], axis=1)\n",
    "print(features.head())\n",
    "\n",
    "# 학습 전용 데이터와 테스트 전용 데이터로 나누기 --- (※3)\n",
    "data_train, data_test, label_train, label_test = train_test_split(features, label, test_size = 0.3)\n",
    "\n",
    "print(len(features))\n",
    "print(len(data_train))\n",
    "print(len(data_test))\n",
    "\n",
    "# 데이터 학습하기 --- (※4)\n",
    "model = svm.SVC()\n",
    "model.fit(data_train, label_train)\n",
    "\n",
    "# 데이터 예측하기 --- (※5)\n",
    "predict = pd.DataFrame(model.predict(data_test))\n",
    "print(predict.size)\n",
    "predict.head()\n",
    "\n",
    "r = pd.concat([data_test.reset_index(drop=True), label_test.reset_index(drop=True), predict.reset_index(drop=True)], axis = 1)\n",
    "r.to_csv(\"d:/result_customer.csv\")\n",
    "print(len(r))\n",
    "print(r.head())\n",
    "# 결과 테스트하기 --- (※6)\n",
    "ac_score = metrics.accuracy_score(label_test, predict)\n",
    "cl_report = metrics.classification_report(label_test, predict)\n",
    "\n",
    "print(\"정답률 =\", ac_score)\n",
    "print(\"리포트 =\\n\", cl_report)"
   ]
  },
  {
   "cell_type": "markdown",
   "metadata": {},
   "source": [
    "### 비지도학습 (K Means)"
   ]
  },
  {
   "cell_type": "code",
   "execution_count": 2,
   "metadata": {},
   "outputs": [
    {
     "name": "stdout",
     "output_type": "stream",
     "text": [
      "name type\n",
      "<class 'pandas.core.frame.DataFrame'>\n",
      "features type\n",
      "<class 'pandas.core.frame.DataFrame'>\n",
      "      NAME   SW   DB  AND  PREDICT\n",
      "0   ST0001   95   30    0        0\n",
      "1   ST0002   50   50    0        0\n",
      "2   ST0003   15   30   15        0\n",
      "3   ST0004   90   50   20        0\n",
      "4   ST0005   75   20   20        0\n",
      "5   ST0006  100   80   30        1\n",
      "6   ST0007   15   10   30        0\n",
      "7   ST0008  100  100   33        1\n",
      "8   ST0009   65   60   35        0\n",
      "9   ST0010   90   20   38        0\n",
      "10  ST0011  100   70   43        1\n",
      "11  ST0012   90   45   45        0\n",
      "12  ST0013   90   60   47        0\n",
      "13  ST0014  100  100   48        1\n",
      "14  ST0015   75   80   49        1\n",
      "15  ST0016   90  100   50        1\n",
      "16  ST0017  100   30   50        0\n",
      "17  ST0018  100  100   58        1\n",
      "18  ST0019  100  100   60        1\n",
      "19  ST0020   90   80   69        1\n",
      "20  ST0021  100  100   75        1\n",
      "21  ST0022  100  100   95        1\n",
      "22  ST0023  100  100   96        1\n",
      "23  ST0024  100  100  100        1\n",
      "24  ST0025   90  100  100        1\n",
      "25  ST0026  100  100  100        1\n"
     ]
    },
    {
     "data": {
      "text/plain": [
       "<matplotlib.collections.PathCollection at 0x23c1dac9208>"
      ]
     },
     "execution_count": 2,
     "metadata": {},
     "output_type": "execute_result"
    },
    {
     "data": {
      "image/png": "[encoded data removed]",
      "text/plain": [
       "<matplotlib.figure.Figure at 0x23c1d3bc828>"
      ]
     },
     "metadata": {},
     "output_type": "display_data"
    }
   ],
   "source": [
    "import pandas as pd\n",
    "from sklearn.cluster import KMeans\n",
    "import matplotlib.pyplot as plt\n",
    "\n",
    "# Only needed if you want to display your plots inline if using Notebook\n",
    "# change inline to auto if you have Spyder installed\n",
    "%matplotlib inline\n",
    "\n",
    "#CSV 파일을 읽어 DataFrame 변수에 저장하기\n",
    "studentData = pd.read_csv(\"../dataset/student_middle.csv\")\n",
    "\n",
    "#<class 'pandas.core.frame.DataFrame'>\n",
    "name = studentData[[\"NAME\"]]\n",
    "print(\"name type\")\n",
    "print(type(name))\n",
    "\n",
    "#<class 'pandas.core.frame.DataFrame'>\n",
    "features = studentData[[\"SW\",\"DB\",\"AND\"]]\n",
    "print(\"features type\")\n",
    "print(type(features))\n",
    "\n",
    "#Create model and prediction\n",
    "model = KMeans(n_clusters=2, algorithm=\"auto\")\n",
    "model.fit(features)\n",
    "predict = pd.DataFrame(model.predict(features))\n",
    "predict.columns=[\"PREDICT\"]\n",
    "\n",
    "#cncatenate labels to df as a new column / column binding\n",
    "r = pd.concat([name, features, predict], axis = 1)\n",
    "print(r)\n",
    "\n",
    "plt.scatter(r['DB'],r[\"AND\"], c=r[\"PREDICT\"], alpha=0.7)"
   ]
  },
  {
   "cell_type": "code",
   "execution_count": null,
   "metadata": {},
   "outputs": [],
   "source": []
  }
 ],
 "metadata": {
  "kernelspec": {
   "display_name": "Python 3",
   "language": "python",
   "name": "python3"
  },
  "language_info": {
   "codemirror_mode": {
    "name": "ipython",
    "version": 3
   },
   "file_extension": ".py",
   "mimetype": "text/x-python",
   "name": "python",
   "nbconvert_exporter": "python",
   "pygments_lexer": "ipython3",
   "version": "3.6.4"
  }
 },
 "nbformat": 4,
 "nbformat_minor": 2
}
